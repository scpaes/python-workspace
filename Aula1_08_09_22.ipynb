{
  "nbformat": 4,
  "nbformat_minor": 0,
  "metadata": {
    "colab": {
      "provenance": [],
      "include_colab_link": true
    },
    "kernelspec": {
      "name": "python3",
      "display_name": "Python 3"
    },
    "language_info": {
      "name": "python"
    }
  },
  "cells": [
    {
      "cell_type": "markdown",
      "metadata": {
        "id": "view-in-github",
        "colab_type": "text"
      },
      "source": [
        "<a href=\"https://colab.research.google.com/github/scpaes/python-workspace/blob/Master/Aula1_08_09_22.ipynb\" target=\"_parent\"><img src=\"https://colab.research.google.com/assets/colab-badge.svg\" alt=\"Open In Colab\"/></a>"
      ]
    },
    {
      "cell_type": "markdown",
      "source": [
        "# Aula-1 09/09/2022"
      ],
      "metadata": {
        "id": "lKg6vxhRBs0Z"
      }
    },
    {
      "cell_type": "markdown",
      "source": [
        "## 1 - Alinhamento de expectativas"
      ],
      "metadata": {
        "id": "8_ls0BcEDNPi"
      }
    },
    {
      "cell_type": "markdown",
      "source": [
        "## 2 - Apresentações"
      ],
      "metadata": {
        "id": "dTMdujCSEG_V"
      }
    },
    {
      "cell_type": "markdown",
      "source": [
        "## 3 - Feedbacks"
      ],
      "metadata": {
        "id": "EmtZdKF3EWEl"
      }
    },
    {
      "cell_type": "markdown",
      "source": [
        "## 4 - Overview sobre o python"
      ],
      "metadata": {
        "id": "XYLw0EMnEfTT"
      }
    },
    {
      "cell_type": "markdown",
      "source": [
        "## 5 - Dinamica do curso"
      ],
      "metadata": {
        "id": "i5EFfy1PEkfh"
      }
    },
    {
      "cell_type": "markdown",
      "source": [
        "## 6 - Cronograma e objetivos"
      ],
      "metadata": {
        "id": "C8F-_0kzF23i"
      }
    },
    {
      "cell_type": "markdown",
      "source": [
        "## 7 - Instalar o python localmente"
      ],
      "metadata": {
        "id": "hgfsRucTFH_M"
      }
    },
    {
      "cell_type": "markdown",
      "source": [
        "## 8 - IDE vs Editor de texto (pycharm, vscode, sublime)"
      ],
      "metadata": {
        "id": "2v2cJn6JFvpv"
      }
    },
    {
      "cell_type": "markdown",
      "source": [
        "## 9 - Outros:\n",
        "\n",
        "- Roadmap (roadmap.sh/python/\n",
        "- Python site oficial (https://www.python.org/)"
      ],
      "metadata": {
        "id": "35YPG9QsGB38"
      }
    },
    {
      "cell_type": "code",
      "source": [
        "# Setup environment \n",
        "!sudo apt-get update -y\n",
        "!sudo apt-get install python3.10\n",
        "!sudo update-alternatives --install /usr/bin/python3 python3 /usr/bin/python3.7 1\n",
        "!sudo update-alternatives --install /usr/bin/python3 python3 /usr/bin/python3.10 2\n",
        "!python --version"
      ],
      "metadata": {
        "id": "e3W2DjfsG0Oq",
        "outputId": "bae63611-f611-4054-8943-d42c07866309",
        "colab": {
          "base_uri": "https://localhost:8080/"
        }
      },
      "execution_count": 25,
      "outputs": [
        {
          "output_type": "stream",
          "name": "stdout",
          "text": [
            "\r0% [Working]\r            \rIgn:1 https://developer.download.nvidia.com/compute/machine-learning/repos/ubuntu1804/x86_64  InRelease\n",
            "\r0% [Connecting to archive.ubuntu.com (185.125.190.36)] [Connecting to security.\r                                                                               \rHit:2 https://developer.download.nvidia.com/compute/cuda/repos/ubuntu1804/x86_64  InRelease\n",
            "\r0% [Connecting to archive.ubuntu.com (185.125.190.36)] [Connecting to security.\r0% [2 InRelease gpgv 1,581 B] [Connecting to archive.ubuntu.com (185.125.190.36\r                                                                               \rHit:3 https://developer.download.nvidia.com/compute/machine-learning/repos/ubuntu1804/x86_64  Release\n",
            "Hit:4 https://cloud.r-project.org/bin/linux/ubuntu bionic-cran40/ InRelease\n",
            "Hit:6 http://archive.ubuntu.com/ubuntu bionic InRelease\n",
            "Hit:7 http://ppa.launchpad.net/c2d4u.team/c2d4u4.0+/ubuntu bionic InRelease\n",
            "Hit:8 http://security.ubuntu.com/ubuntu bionic-security InRelease\n",
            "Hit:9 http://archive.ubuntu.com/ubuntu bionic-updates InRelease\n",
            "Hit:10 http://archive.ubuntu.com/ubuntu bionic-backports InRelease\n",
            "Hit:11 http://ppa.launchpad.net/cran/libgit2/ubuntu bionic InRelease\n",
            "Hit:12 http://ppa.launchpad.net/deadsnakes/ppa/ubuntu bionic InRelease\n",
            "Hit:13 http://ppa.launchpad.net/graphics-drivers/ppa/ubuntu bionic InRelease\n",
            "Reading package lists... Done\n",
            "Reading package lists... Done\n",
            "Building dependency tree       \n",
            "Reading state information... Done\n",
            "python3.10 is already the newest version (3.10.7-1+bionic1).\n",
            "The following package was automatically installed and is no longer required:\n",
            "  libnvidia-common-460\n",
            "Use 'sudo apt autoremove' to remove it.\n",
            "0 upgraded, 0 newly installed, 0 to remove and 30 not upgraded.\n",
            "Python 3.10.7\n"
          ]
        }
      ]
    },
    {
      "cell_type": "code",
      "source": [
        "# Hello world\n",
        "print('Hello world')"
      ],
      "metadata": {
        "id": "s9K0VQnYUKOx",
        "outputId": "1617acf0-17af-4083-baf3-445e2624b340",
        "colab": {
          "base_uri": "https://localhost:8080/"
        }
      },
      "execution_count": 26,
      "outputs": [
        {
          "output_type": "stream",
          "name": "stdout",
          "text": [
            "Hello world\n"
          ]
        }
      ]
    },
    {
      "cell_type": "code",
      "source": [
        "# Zen of python\n",
        "import this\n",
        "\n",
        "# The Zen of Python, by Tim Peters\n",
        "\n",
        "# Beautiful is better than ugly.\n",
        "# Explicit is better than implicit.\n",
        "# Simple is better than complex.\n",
        "# Complex is better than complicated.\n",
        "# Flat is better than nested.\n",
        "# Sparse is better than dense.\n",
        "# Readability counts.\n",
        "# Special cases aren't special enough to break the rules.\n",
        "# Although practicality beats purity.\n",
        "# Errors should never pass silently.\n",
        "# Unless explicitly silenced.\n",
        "# In the face of ambiguity, refuse the temptation to guess.\n",
        "# There should be one-- and preferably only one --obvious way to do it.\n",
        "# Although that way may not be obvious at first unless you're Dutch.\n",
        "# Now is better than never.\n",
        "# Although never is often better than *right* now.\n",
        "# If the implementation is hard to explain, it's a bad idea.\n",
        "# If the implementation is easy to explain, it may be a good idea.\n",
        "# Namespaces are one honking great idea -- let's do more of those!"
      ],
      "metadata": {
        "id": "b3rO1pI_I60h"
      },
      "execution_count": 31,
      "outputs": []
    },
    {
      "cell_type": "code",
      "source": [
        "# Como inserir comentários no código\n",
        "print('Comente esta linha!')"
      ],
      "metadata": {
        "id": "g85HmKEWI9zZ",
        "outputId": "e454fa87-4adf-4a02-b9d9-bf166cd4eb2f",
        "colab": {
          "base_uri": "https://localhost:8080/"
        }
      },
      "execution_count": 33,
      "outputs": [
        {
          "output_type": "stream",
          "name": "stdout",
          "text": [
            "Comente esta linha!\n"
          ]
        }
      ]
    },
    {
      "cell_type": "code",
      "source": [
        "# Nomes para variáveis e definição de variáveis\n",
        "\n",
        "# positive number\n",
        "_number = 25\n",
        "\n",
        "# negative number\n",
        "negativeNumber = -23\n",
        "\n",
        "# float number \n",
        "decimal-number = 23.5\n",
        "\n",
        "# String\n",
        "1first_string = \"Hello\"\n",
        "\n",
        "# Boolean\n",
        "first_bool = True\n"
      ],
      "metadata": {
        "id": "cSyQiH8yJGaM",
        "outputId": "1cb1c357-001e-4ca1-9201-8bd78bdd2207",
        "colab": {
          "base_uri": "https://localhost:8080/",
          "height": 132
        }
      },
      "execution_count": 34,
      "outputs": [
        {
          "output_type": "error",
          "ename": "SyntaxError",
          "evalue": "ignored",
          "traceback": [
            "\u001b[0;36m  File \u001b[0;32m\"<ipython-input-34-2f19407a4116>\"\u001b[0;36m, line \u001b[0;32m13\u001b[0m\n\u001b[0;31m    1first_string = \"Hello\"\u001b[0m\n\u001b[0m                ^\u001b[0m\n\u001b[0;31mSyntaxError\u001b[0m\u001b[0;31m:\u001b[0m invalid syntax\n"
          ]
        }
      ]
    },
    {
      "cell_type": "markdown",
      "source": [
        "### Qual a extensão correta para um arquivo python\n",
        ".py"
      ],
      "metadata": {
        "id": "Kc8g1DREK52s"
      }
    },
    {
      "cell_type": "code",
      "source": [
        "# Comentários no código\n",
        "print('comment this line')"
      ],
      "metadata": {
        "id": "zns203G8K-gd"
      },
      "execution_count": null,
      "outputs": []
    },
    {
      "cell_type": "code",
      "source": [
        "# How do you create a variable with the floating number 2.8?\n",
        "x = 2.8\n",
        "x = float(2.8)\n",
        "# both answers are correct"
      ],
      "metadata": {
        "id": "gDAk6GQMLec7"
      },
      "execution_count": null,
      "outputs": []
    },
    {
      "cell_type": "code",
      "source": [
        "# Type function\n",
        "# What is the correct syntax to output the type of a variable or object in Python?\n",
        "print(typeof x)\n",
        "print(typeOf(x))\n",
        "print(type(x))"
      ],
      "metadata": {
        "id": "qpBNxUosL6r3"
      },
      "execution_count": null,
      "outputs": []
    },
    {
      "cell_type": "code",
      "source": [
        "# What is Python If Statement?\n",
        "\n",
        "#\n",
        "#Example file for working with conditional statement\n",
        "#\n",
        "def main():\n",
        "\tx,y =2,8\n",
        "\t\n",
        "\tif(x < y):\n",
        "\t\tst= \"x is less than y\"\n",
        "\tprint(st)\n",
        "\t\n",
        "main()"
      ],
      "metadata": {
        "id": "l3BE7m8XMUfp",
        "outputId": "b1033275-3f7c-463a-b1b9-89e2c4b915d6",
        "colab": {
          "base_uri": "https://localhost:8080/"
        }
      },
      "execution_count": 7,
      "outputs": [
        {
          "output_type": "stream",
          "name": "stdout",
          "text": [
            "x is less than y\n"
          ]
        }
      ]
    },
    {
      "cell_type": "code",
      "source": [
        "#\n",
        "#Example file for working with conditional statement\n",
        "#\n",
        "def main():\n",
        "\tx,y =8,4\n",
        "\t\n",
        "\tif(x < y):\n",
        "\t\tst= \"x is less than y\"\n",
        "\tprint(st)\n",
        "\t\n",
        "main()"
      ],
      "metadata": {
        "id": "VuAB3f-PN-Ur",
        "outputId": "c34b15b3-e055-437d-9963-4df358ff5abc",
        "colab": {
          "base_uri": "https://localhost:8080/",
          "height": 324
        }
      },
      "execution_count": 8,
      "outputs": [
        {
          "output_type": "error",
          "ename": "UnboundLocalError",
          "evalue": "ignored",
          "traceback": [
            "\u001b[0;31m---------------------------------------------------------------------------\u001b[0m",
            "\u001b[0;31mUnboundLocalError\u001b[0m                         Traceback (most recent call last)",
            "\u001b[0;32m<ipython-input-8-e6013ada4359>\u001b[0m in \u001b[0;36m<module>\u001b[0;34m\u001b[0m\n\u001b[1;32m      9\u001b[0m         \u001b[0mprint\u001b[0m\u001b[0;34m(\u001b[0m\u001b[0mst\u001b[0m\u001b[0;34m)\u001b[0m\u001b[0;34m\u001b[0m\u001b[0;34m\u001b[0m\u001b[0m\n\u001b[1;32m     10\u001b[0m \u001b[0;34m\u001b[0m\u001b[0m\n\u001b[0;32m---> 11\u001b[0;31m \u001b[0mmain\u001b[0m\u001b[0;34m(\u001b[0m\u001b[0;34m)\u001b[0m\u001b[0;34m\u001b[0m\u001b[0;34m\u001b[0m\u001b[0m\n\u001b[0m",
            "\u001b[0;32m<ipython-input-8-e6013ada4359>\u001b[0m in \u001b[0;36mmain\u001b[0;34m()\u001b[0m\n\u001b[1;32m      7\u001b[0m         \u001b[0;32mif\u001b[0m\u001b[0;34m(\u001b[0m\u001b[0mx\u001b[0m \u001b[0;34m<\u001b[0m \u001b[0my\u001b[0m\u001b[0;34m)\u001b[0m\u001b[0;34m:\u001b[0m\u001b[0;34m\u001b[0m\u001b[0;34m\u001b[0m\u001b[0m\n\u001b[1;32m      8\u001b[0m                 \u001b[0mst\u001b[0m\u001b[0;34m=\u001b[0m \u001b[0;34m\"x is less than y\"\u001b[0m\u001b[0;34m\u001b[0m\u001b[0;34m\u001b[0m\u001b[0m\n\u001b[0;32m----> 9\u001b[0;31m         \u001b[0mprint\u001b[0m\u001b[0;34m(\u001b[0m\u001b[0mst\u001b[0m\u001b[0;34m)\u001b[0m\u001b[0;34m\u001b[0m\u001b[0;34m\u001b[0m\u001b[0m\n\u001b[0m\u001b[1;32m     10\u001b[0m \u001b[0;34m\u001b[0m\u001b[0m\n\u001b[1;32m     11\u001b[0m \u001b[0mmain\u001b[0m\u001b[0;34m(\u001b[0m\u001b[0;34m)\u001b[0m\u001b[0;34m\u001b[0m\u001b[0;34m\u001b[0m\u001b[0m\n",
            "\u001b[0;31mUnboundLocalError\u001b[0m: local variable 'st' referenced before assignment"
          ]
        }
      ]
    },
    {
      "cell_type": "code",
      "source": [
        "#\n",
        "#Example file for working with conditional statement\n",
        "#\n",
        "def main():\n",
        "\tx,y =8,4\n",
        "\t\n",
        "\tif(x < y):\n",
        "\t\tst= \"x is less than y\"\n",
        "\telse:\n",
        "\t\tst= \"x is greater than y\"\n",
        "\tprint (st)\n",
        "\t\n",
        "main()"
      ],
      "metadata": {
        "id": "oE2-Zi46OWV_",
        "outputId": "38c3d8ab-66c2-4f4a-9996-a0537b304c37",
        "colab": {
          "base_uri": "https://localhost:8080/"
        }
      },
      "execution_count": 9,
      "outputs": [
        {
          "output_type": "stream",
          "name": "stdout",
          "text": [
            "x is greater than y\n"
          ]
        }
      ]
    },
    {
      "cell_type": "code",
      "source": [
        "# When “else condition” does not work\n",
        "#Example file for working with conditional statement\n",
        "#\n",
        "def main():\n",
        "\tx,y =8,8\n",
        "\t\n",
        "\tif(x < y):\n",
        "\t\tst= \"x is less than y\"\n",
        "\telse:\n",
        "\t\tst= \"x is greater than y\"\n",
        "\tprint(st)\n",
        "\t\n",
        "main()"
      ],
      "metadata": {
        "id": "_Sc2b85xOiJb",
        "outputId": "3793fa34-6287-4641-be89-bbb91df36054",
        "colab": {
          "base_uri": "https://localhost:8080/"
        }
      },
      "execution_count": 10,
      "outputs": [
        {
          "output_type": "stream",
          "name": "stdout",
          "text": [
            "x is greater than y\n"
          ]
        }
      ]
    },
    {
      "cell_type": "code",
      "source": [
        "# How to use “elif” condition\n",
        "def main():\n",
        "\tx,y =8,8\n",
        "\t\n",
        "\tif(x < y):\n",
        "\t\tst= \"x is less than y\"\n",
        "\t\n",
        "\telif (x == y):\n",
        "\t\tst= \"x is same as y\"\n",
        "\t\n",
        "\telse:\n",
        "\t\tst=\"x is greater than y\"\n",
        "\tprint(st)\n",
        " \n",
        "main()"
      ],
      "metadata": {
        "id": "7RFmDCSmO-xs",
        "outputId": "a820e473-7c87-436f-c81f-eacade387ed6",
        "colab": {
          "base_uri": "https://localhost:8080/"
        }
      },
      "execution_count": 11,
      "outputs": [
        {
          "output_type": "stream",
          "name": "stdout",
          "text": [
            "x is same as y\n"
          ]
        }
      ]
    },
    {
      "cell_type": "code",
      "source": [
        "# How to execute conditional statement with minimal code\n",
        "def main():\n",
        "\tx,y = 10,8\n",
        "\tst = \"x is less than y\" if (x < y) else \"x is greater than or equal to y\"\n",
        "\tprint(st)\n",
        " \n",
        "main()"
      ],
      "metadata": {
        "id": "yl8FhywkPS8G"
      },
      "execution_count": null,
      "outputs": []
    },
    {
      "cell_type": "code",
      "source": [
        "# Python Nested if Statement\n",
        "total = 100\n",
        "#country = \"US\"\n",
        "country = \"AU\"\n",
        "if country == \"US\":\n",
        "    if total <= 50:\n",
        "        print(\"Shipping Cost is  $50\")\n",
        "elif total <= 100:\n",
        "        print(\"Shipping Cost is $25\")\n",
        "elif total <= 150:\n",
        "\t    print(\"Shipping Costs $5\")\n",
        "else:\n",
        "        print(\"FREE\")\n",
        "if country == \"AU\": \n",
        "\t  if total <= 50:\n",
        "\t    print(\"Shipping Cost is  $100\")\n",
        "else:\n",
        "\t    print(\"FREE\")"
      ],
      "metadata": {
        "id": "13x4-HduPowo"
      },
      "execution_count": null,
      "outputs": []
    },
    {
      "cell_type": "code",
      "source": [
        "# Simulate Switch Case\n",
        "def switch(lang):\n",
        "    if lang == \"JavaScript\":\n",
        "        return \"You can become a web developer.\"\n",
        "    elif lang == \"PHP\":\n",
        "        return \"You can become a backend developer.\"\n",
        "    elif lang == \"Python\":\n",
        "        return \"You can become a Data Scientist\"\n",
        "    elif lang == \"Solidity\":\n",
        "        return \"You can become a Blockchain developer.\"\n",
        "    elif lang == \"Java\":\n",
        "        return \"You can become a mobile app developer\"\n",
        "\n",
        "print(switch(\"JavaScript\"))   \n",
        "print(switch(\"PHP\"))   \n",
        "print(switch(\"Java\"))"
      ],
      "metadata": {
        "id": "mKVMbufpPtQ3"
      },
      "execution_count": null,
      "outputs": []
    },
    {
      "cell_type": "code",
      "source": [
        "# How to Implement Switch Statements with the match and case Keywords in Python 3.10\n",
        "lang = input(\"What's the programming language you want to learn? \")\n",
        "\n",
        "match lang:\n",
        "    case \"JavaScript\":\n",
        "        print(\"You can become a web developer.\")\n",
        "\n",
        "    case \"Python\":\n",
        "        print(\"You can become a Data Scientist\")\n",
        "\n",
        "    case \"PHP\":\n",
        "        print(\"You can become a backend developer\")\n",
        "    \n",
        "    case \"Solidity\":\n",
        "        print(\"You can become a Blockchain developer\")\n",
        "\n",
        "    case \"Java\":\n",
        "        print(\"You can become a mobile app developer\")\n",
        "    case _:\n",
        "        print(\"The language doesn't matter, what matters is solving problems.\")\n"
      ],
      "metadata": {
        "id": "01toNyA1QdpZ"
      },
      "execution_count": null,
      "outputs": []
    },
    {
      "cell_type": "code",
      "source": [
        "from platform import python_version\n",
        "python_version()"
      ],
      "metadata": {
        "id": "ZlRiPfdbRDpm",
        "outputId": "081df4c9-5f5b-4e09-9ef9-095e535c0f33",
        "colab": {
          "base_uri": "https://localhost:8080/",
          "height": 35
        }
      },
      "execution_count": 12,
      "outputs": [
        {
          "output_type": "execute_result",
          "data": {
            "text/plain": [
              "'3.7.13'"
            ],
            "application/vnd.google.colaboratory.intrinsic+json": {
              "type": "string"
            }
          },
          "metadata": {},
          "execution_count": 12
        }
      ]
    },
    {
      "cell_type": "code",
      "source": [
        "!python --version"
      ],
      "metadata": {
        "id": "3I2cmZBMRL7K",
        "outputId": "21aa1c41-2c87-4a61-bd1e-d444c22f04e5",
        "colab": {
          "base_uri": "https://localhost:8080/"
        }
      },
      "execution_count": 13,
      "outputs": [
        {
          "output_type": "stream",
          "name": "stdout",
          "text": [
            "Python 3.7.13\n"
          ]
        }
      ]
    },
    {
      "cell_type": "code",
      "source": [
        "!sudo update-alternatives --install /usr/bin/python3 python3 /usr/bin/python3.10.7 1"
      ],
      "metadata": {
        "id": "ka0tRwI7Rrtl",
        "outputId": "9274ef2f-a057-4bdb-adb8-239a47383a6e",
        "colab": {
          "base_uri": "https://localhost:8080/"
        }
      },
      "execution_count": 18,
      "outputs": [
        {
          "output_type": "stream",
          "name": "stdout",
          "text": [
            "update-alternatives: error: alternative path /usr/bin/python3.10.7 doesn't exist\n"
          ]
        }
      ]
    },
    {
      "cell_type": "code",
      "source": [
        "!sudo update-alternatives --config python3"
      ],
      "metadata": {
        "id": "CasM4aGvRv9Y",
        "outputId": "8b1ccc48-1c9f-40a3-cc85-abca4dc08aa0",
        "colab": {
          "base_uri": "https://localhost:8080/"
        }
      },
      "execution_count": 22,
      "outputs": [
        {
          "output_type": "stream",
          "name": "stdout",
          "text": [
            "There are 2 choices for the alternative python3 (providing /usr/bin/python3).\n",
            "\n",
            "  Selection    Path                Priority   Status\n",
            "------------------------------------------------------------\n",
            "* 0            /usr/bin/python3.7   1         auto mode\n",
            "  1            /usr/bin/python3.6   1         manual mode\n",
            "  2            /usr/bin/python3.7   1         manual mode\n",
            "\n",
            "Press <enter> to keep the current choice[*], or type selection number: \n"
          ]
        }
      ]
    },
    {
      "cell_type": "code",
      "source": [
        "\n",
        "!sudo apt-get update -y\n",
        "!sudo apt-get install python3.10"
      ],
      "metadata": {
        "colab": {
          "base_uri": "https://localhost:8080/"
        },
        "id": "jbu-v6NhR1vO",
        "outputId": "a6924b81-f1c8-4ac8-bbfc-4a0a8e921cb2"
      },
      "execution_count": 21,
      "outputs": [
        {
          "output_type": "stream",
          "name": "stdout",
          "text": [
            "\r0% [Working]\r            \rHit:1 https://cloud.r-project.org/bin/linux/ubuntu bionic-cran40/ InRelease\n",
            "\r0% [Connecting to archive.ubuntu.com (185.125.190.39)] [Connecting to security.\r                                                                               \rIgn:2 https://developer.download.nvidia.com/compute/machine-learning/repos/ubuntu1804/x86_64  InRelease\n",
            "\r                                                                               \rHit:3 https://developer.download.nvidia.com/compute/cuda/repos/ubuntu1804/x86_64  InRelease\n",
            "\r0% [Connecting to archive.ubuntu.com (185.125.190.39)] [Connecting to security.\r0% [1 InRelease gpgv 3,626 B] [Connecting to archive.ubuntu.com (185.125.190.39\r                                                                               \rHit:4 https://developer.download.nvidia.com/compute/machine-learning/repos/ubuntu1804/x86_64  Release\n",
            "\r0% [1 InRelease gpgv 3,626 B] [Connecting to archive.ubuntu.com (185.125.190.39\r                                                                               \r0% [Waiting for headers] [Waiting for headers] [Waiting for headers]\r0% [3 InRelease gpgv 1,581 B] [Waiting for headers] [Waiting for headers] [Wait\r                                                                               \r0% [Waiting for headers] [Waiting for headers] [Waiting for headers]\r0% [Release.gpg gpgv 564 B] [Waiting for headers] [Waiting for headers] [Waitin\r                                                                               \rHit:5 http://security.ubuntu.com/ubuntu bionic-security InRelease\n",
            "\r                                                                               \rHit:6 http://ppa.launchpad.net/c2d4u.team/c2d4u4.0+/ubuntu bionic InRelease\n",
            "Hit:7 http://archive.ubuntu.com/ubuntu bionic InRelease\n",
            "Hit:9 http://archive.ubuntu.com/ubuntu bionic-updates InRelease\n",
            "Hit:10 http://archive.ubuntu.com/ubuntu bionic-backports InRelease\n",
            "Hit:11 http://ppa.launchpad.net/cran/libgit2/ubuntu bionic InRelease\n",
            "Hit:12 http://ppa.launchpad.net/deadsnakes/ppa/ubuntu bionic InRelease\n",
            "Hit:13 http://ppa.launchpad.net/graphics-drivers/ppa/ubuntu bionic InRelease\n",
            "Reading package lists... Done\n",
            "Reading package lists... Done\n",
            "Building dependency tree       \n",
            "Reading state information... Done\n",
            "The following package was automatically installed and is no longer required:\n",
            "  libnvidia-common-460\n",
            "Use 'sudo apt autoremove' to remove it.\n",
            "The following additional packages will be installed:\n",
            "  libpython3.10-minimal libpython3.10-stdlib python3.10-minimal\n",
            "Suggested packages:\n",
            "  python3.10-venv binfmt-support\n",
            "The following NEW packages will be installed:\n",
            "  libpython3.10-minimal libpython3.10-stdlib python3.10 python3.10-minimal\n",
            "0 upgraded, 4 newly installed, 0 to remove and 30 not upgraded.\n",
            "Need to get 5,097 kB of archives.\n",
            "After this operation, 19.5 MB of additional disk space will be used.\n",
            "Get:1 http://ppa.launchpad.net/deadsnakes/ppa/ubuntu bionic/main amd64 libpython3.10-minimal amd64 3.10.7-1+bionic1 [823 kB]\n",
            "Get:2 http://ppa.launchpad.net/deadsnakes/ppa/ubuntu bionic/main amd64 python3.10-minimal amd64 3.10.7-1+bionic1 [1,970 kB]\n",
            "Get:3 http://ppa.launchpad.net/deadsnakes/ppa/ubuntu bionic/main amd64 libpython3.10-stdlib amd64 3.10.7-1+bionic1 [1,762 kB]\n",
            "Get:4 http://ppa.launchpad.net/deadsnakes/ppa/ubuntu bionic/main amd64 python3.10 amd64 3.10.7-1+bionic1 [542 kB]\n",
            "Fetched 5,097 kB in 4s (1,164 kB/s)\n",
            "debconf: unable to initialize frontend: Dialog\n",
            "debconf: (No usable dialog-like program is installed, so the dialog based frontend cannot be used. at /usr/share/perl5/Debconf/FrontEnd/Dialog.pm line 76, <> line 4.)\n",
            "debconf: falling back to frontend: Readline\n",
            "debconf: unable to initialize frontend: Readline\n",
            "debconf: (This frontend requires a controlling tty.)\n",
            "debconf: falling back to frontend: Teletype\n",
            "dpkg-preconfigure: unable to re-open stdin: \n",
            "Selecting previously unselected package libpython3.10-minimal:amd64.\n",
            "(Reading database ... 155685 files and directories currently installed.)\n",
            "Preparing to unpack .../libpython3.10-minimal_3.10.7-1+bionic1_amd64.deb ...\n",
            "Unpacking libpython3.10-minimal:amd64 (3.10.7-1+bionic1) ...\n",
            "Selecting previously unselected package python3.10-minimal.\n",
            "Preparing to unpack .../python3.10-minimal_3.10.7-1+bionic1_amd64.deb ...\n",
            "Unpacking python3.10-minimal (3.10.7-1+bionic1) ...\n",
            "Selecting previously unselected package libpython3.10-stdlib:amd64.\n",
            "Preparing to unpack .../libpython3.10-stdlib_3.10.7-1+bionic1_amd64.deb ...\n",
            "Unpacking libpython3.10-stdlib:amd64 (3.10.7-1+bionic1) ...\n",
            "Selecting previously unselected package python3.10.\n",
            "Preparing to unpack .../python3.10_3.10.7-1+bionic1_amd64.deb ...\n",
            "Unpacking python3.10 (3.10.7-1+bionic1) ...\n",
            "Setting up libpython3.10-minimal:amd64 (3.10.7-1+bionic1) ...\n",
            "Setting up libpython3.10-stdlib:amd64 (3.10.7-1+bionic1) ...\n",
            "Setting up python3.10-minimal (3.10.7-1+bionic1) ...\n",
            "Setting up python3.10 (3.10.7-1+bionic1) ...\n",
            "Processing triggers for man-db (2.8.3-2ubuntu0.1) ...\n",
            "Processing triggers for mime-support (3.60ubuntu1) ...\n"
          ]
        }
      ]
    },
    {
      "cell_type": "code",
      "source": [
        "!sudo update-alternatives --install /usr/bin/python3 python3 /usr/bin/python3.7 1\n",
        "!sudo update-alternatives --install /usr/bin/python3 python3 /usr/bin/python3.10 2"
      ],
      "metadata": {
        "id": "5xPE3ad4TRMf",
        "outputId": "9a2aedad-dba1-4e89-b588-0298c57303df",
        "colab": {
          "base_uri": "https://localhost:8080/"
        }
      },
      "execution_count": 23,
      "outputs": [
        {
          "output_type": "stream",
          "name": "stdout",
          "text": [
            "update-alternatives: using /usr/bin/python3.10 to provide /usr/bin/python3 (python3) in auto mode\n"
          ]
        }
      ]
    },
    {
      "cell_type": "code",
      "source": [
        "!python --version"
      ],
      "metadata": {
        "id": "uYuEj_sUTtIK",
        "outputId": "24de72fc-e7f7-46bc-8375-36cab871446a",
        "colab": {
          "base_uri": "https://localhost:8080/"
        }
      },
      "execution_count": 24,
      "outputs": [
        {
          "output_type": "stream",
          "name": "stdout",
          "text": [
            "Python 3.10.7\n"
          ]
        }
      ]
    },
    {
      "cell_type": "code",
      "source": [],
      "metadata": {
        "id": "qBZVTPY5TwY2"
      },
      "execution_count": null,
      "outputs": []
    }
  ]
}