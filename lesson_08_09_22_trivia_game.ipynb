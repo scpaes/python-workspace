{
  "nbformat": 4,
  "nbformat_minor": 0,
  "metadata": {
    "colab": {
      "provenance": [],
      "collapsed_sections": [],
      "authorship_tag": "ABX9TyMvN6voloGmQ+mB2pIGdL/v",
      "include_colab_link": true
    },
    "kernelspec": {
      "name": "python3",
      "display_name": "Python 3"
    },
    "language_info": {
      "name": "python"
    }
  },
  "cells": [
    {
      "cell_type": "markdown",
      "metadata": {
        "id": "view-in-github",
        "colab_type": "text"
      },
      "source": [
        "<a href=\"https://colab.research.google.com/github/scpaes/python-workspace/blob/Master/lesson_08_09_22_trivia_game.ipynb\" target=\"_parent\"><img src=\"https://colab.research.google.com/assets/colab-badge.svg\" alt=\"Open In Colab\"/></a>"
      ]
    },
    {
      "cell_type": "code",
      "execution_count": null,
      "metadata": {
        "id": "SloDmlLC37DN"
      },
      "outputs": [],
      "source": [
        "\"\"\"\n",
        "Trivia game, goal find a secret integer number\n",
        "\"\"\"\n",
        "\n",
        "# imports random module\n",
        "import random\n",
        "\n",
        "secret_number = random.randint(0, 10)\n",
        "\n",
        "def is_equal_to_secret_number(number):\n",
        "  return True if secret_number == number else False\n",
        "\n",
        "def main():\n",
        "  number_from_user = int(input(\"guess the secret number: \"))\n",
        "  if is_equal_to_secret_number(number_from_user):\n",
        "    print(\"you win\")\n",
        "  else:\n",
        "    print(\"you lose\")"
      ]
    }
  ]
}